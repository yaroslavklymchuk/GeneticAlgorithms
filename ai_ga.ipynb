{
 "cells": [
  {
   "cell_type": "code",
   "execution_count": 1,
   "metadata": {
    "ExecuteTime": {
     "end_time": "2019-10-27T07:21:31.020644Z",
     "start_time": "2019-10-27T07:21:29.150921Z"
    }
   },
   "outputs": [
    {
     "data": {
      "text/html": [
       "        <script type=\"text/javascript\">\n",
       "        window.PlotlyConfig = {MathJaxConfig: 'local'};\n",
       "        if (window.MathJax) {MathJax.Hub.Config({SVG: {font: \"STIX-Web\"}});}\n",
       "        if (typeof require !== 'undefined') {\n",
       "        require.undef(\"plotly\");\n",
       "        requirejs.config({\n",
       "            paths: {\n",
       "                'plotly': ['https://cdn.plot.ly/plotly-latest.min']\n",
       "            }\n",
       "        });\n",
       "        require(['plotly'], function(Plotly) {\n",
       "            window._Plotly = Plotly;\n",
       "        });\n",
       "        }\n",
       "        </script>\n",
       "        "
      ]
     },
     "metadata": {},
     "output_type": "display_data"
    },
    {
     "data": {
      "text/html": [
       "        <script type=\"text/javascript\">\n",
       "        window.PlotlyConfig = {MathJaxConfig: 'local'};\n",
       "        if (window.MathJax) {MathJax.Hub.Config({SVG: {font: \"STIX-Web\"}});}\n",
       "        if (typeof require !== 'undefined') {\n",
       "        require.undef(\"plotly\");\n",
       "        requirejs.config({\n",
       "            paths: {\n",
       "                'plotly': ['https://cdn.plot.ly/plotly-latest.min']\n",
       "            }\n",
       "        });\n",
       "        require(['plotly'], function(Plotly) {\n",
       "            window._Plotly = Plotly;\n",
       "        });\n",
       "        }\n",
       "        </script>\n",
       "        "
      ]
     },
     "metadata": {},
     "output_type": "display_data"
    },
    {
     "data": {
      "text/html": [
       "        <script type=\"text/javascript\">\n",
       "        window.PlotlyConfig = {MathJaxConfig: 'local'};\n",
       "        if (window.MathJax) {MathJax.Hub.Config({SVG: {font: \"STIX-Web\"}});}\n",
       "        if (typeof require !== 'undefined') {\n",
       "        require.undef(\"plotly\");\n",
       "        requirejs.config({\n",
       "            paths: {\n",
       "                'plotly': ['https://cdn.plot.ly/plotly-latest.min']\n",
       "            }\n",
       "        });\n",
       "        require(['plotly'], function(Plotly) {\n",
       "            window._Plotly = Plotly;\n",
       "        });\n",
       "        }\n",
       "        </script>\n",
       "        "
      ]
     },
     "metadata": {},
     "output_type": "display_data"
    }
   ],
   "source": [
    "import optimization_methods\n",
    "import plot_methods\n",
    "import numpy as np\n",
    "import pandas as pd\n",
    "import random\n",
    "import itertools\n",
    "import seaborn as sns\n",
    "import math\n",
    "import warnings\n",
    "warnings.filterwarnings('ignore')\n",
    "%matplotlib inline"
   ]
  },
  {
   "cell_type": "markdown",
   "metadata": {},
   "source": [
    "## Functions initializations and plottings"
   ]
  },
  {
   "cell_type": "code",
   "execution_count": 2,
   "metadata": {
    "ExecuteTime": {
     "end_time": "2019-10-27T07:21:31.042684Z",
     "start_time": "2019-10-27T07:21:31.032921Z"
    }
   },
   "outputs": [],
   "source": [
    "bukin_function = lambda x, y: 100*math.sqrt(abs(y - 0.01*pow(x, 2))) + 0.01*abs(x+10)\n",
    "makkormik_function = lambda x, y: math.sin(x + y) + pow(x-y, 2) - 1.5*x + 2.5*y + 1\n",
    "but_function = lambda x, y: pow(x + 2*y - 7, 2) + pow(2*x + y - 5, 2)"
   ]
  },
  {
   "cell_type": "code",
   "execution_count": 3,
   "metadata": {
    "ExecuteTime": {
     "end_time": "2019-10-27T07:21:41.980516Z",
     "start_time": "2019-10-27T07:21:40.262123Z"
    }
   },
   "outputs": [],
   "source": [
    "plot_methods.plot_function(func=bukin_function, x_range=np.arange(-15, -4.9, 0.1),\n",
    "                           y_range=np.arange(-3, 3.1, 0.1),\n",
    "                           title = 'Bukin Function', only_save=True)"
   ]
  },
  {
   "cell_type": "code",
   "execution_count": 4,
   "metadata": {
    "ExecuteTime": {
     "end_time": "2019-10-27T07:21:50.444276Z",
     "start_time": "2019-10-27T07:21:41.984432Z"
    }
   },
   "outputs": [],
   "source": [
    "plot_methods.plot_function(func=but_function, x_range=np.arange(-10, 10, 0.1),\n",
    "                           y_range=np.arange(-10, 10, 0.1),\n",
    "                           title = 'But Function', only_save=True)"
   ]
  },
  {
   "cell_type": "code",
   "execution_count": 5,
   "metadata": {
    "ExecuteTime": {
     "end_time": "2019-10-27T07:21:51.506172Z",
     "start_time": "2019-10-27T07:21:50.446853Z"
    }
   },
   "outputs": [],
   "source": [
    "plot_methods.plot_function(func=makkormik_function, x_range=np.arange(-1.5, 4, 0.1),\n",
    "                           y_range=np.arange(-3, 4, 0.1),\n",
    "                           title = 'Makkormik Function', only_save=True)"
   ]
  },
  {
   "cell_type": "markdown",
   "metadata": {},
   "source": [
    "## Genetic Algorithm implementation"
   ]
  },
  {
   "cell_type": "code",
   "execution_count": 6,
   "metadata": {
    "ExecuteTime": {
     "end_time": "2019-10-27T07:22:09.023730Z",
     "start_time": "2019-10-27T07:22:08.992602Z"
    }
   },
   "outputs": [],
   "source": [
    "class GeneticAlgorithm:\n",
    "\n",
    "    def __init__(self, fitness_function, lower_bounds, upper_bounds):\n",
    "        self.fitness_function = fitness_function\n",
    "        self.lower_bounds = lower_bounds\n",
    "        self.upper_bounds = upper_bounds\n",
    "\n",
    "    def _calculate_fitness(self, population_result):\n",
    "        \"\"\"define the value of fitness function for an individual\"\"\"\n",
    "        fitness_value = self.fitness_function(*population_result)\n",
    "        return fitness_value\n",
    "\n",
    "    def _create_individual(self, qty_variables):\n",
    "        \"\"\"creates an individual of population\"\"\"\n",
    "        return [self.lower_bounds[i] + random.random() * (self.upper_bounds[i] - self.lower_bounds[i])\n",
    "                for i in range(qty_variables)]\n",
    "\n",
    "    def _create_population(self, qty_variables, qty_individuals):\n",
    "        \"\"\"creates a population\"\"\"\n",
    "        return [self._create_individual(qty_variables) for i in range(qty_individuals)]\n",
    "\n",
    "    def _evaluate_population(self, population):\n",
    "        \"\"\"evaluates a fitness of whole population\"\"\"\n",
    "        return np.mean([self._calculate_fitness(single_result)\n",
    "                         for single_result in population])\n",
    "\n",
    "    def _mutate(self, individual, mutation_probability):\n",
    "        \"\"\"mutates an individual\"\"\"\n",
    "        new_individual = []\n",
    "        if mutation_probability > random.random():\n",
    "            for i, ind_value in enumerate(individual):\n",
    "                randomness = np.random.normal(size=1)\n",
    "                new_value = ind_value + randomness\n",
    "                while new_value > self.upper_bounds[i] or new_value < self.lower_bounds[i]:\n",
    "                    randomness = np.random.normal(size=1)\n",
    "                    new_value = ind_value + randomness\n",
    "                new_individual.append(new_value)\n",
    "            return new_individual\n",
    "        else:\n",
    "            return individual\n",
    "\n",
    "    def _get_best_individual(self, population, criterion_function='min'):\n",
    "        \"\"\"selects best individual in population, works with 'min' and 'max' criterion functions\"\"\"\n",
    "        population_fitness_results = np.array([self._calculate_fitness(individual) for individual in population])\n",
    "        if criterion_function == 'min':\n",
    "            return population_fitness_results.min(), population[population_fitness_results.argmin()]\n",
    "        else:\n",
    "            return population_fitness_results.max(), population[population_fitness_results.argmax()]\n",
    "\n",
    "    def _select_population(self, population, criterion='min', mutation_probability=0.5):\n",
    "        \"\"\"selects best individuals for population\"\"\"\n",
    "        new_population = []\n",
    "        population_avg_score = self._evaluate_population(population)\n",
    "        for individual in population:\n",
    "            if criterion == 'min':\n",
    "                if self._calculate_fitness(individual) < population_avg_score:\n",
    "                    new_population.append(individual)\n",
    "                else:\n",
    "                    new_population.append(self._mutate(individual, mutation_probability))\n",
    "            else:\n",
    "                if self._calculate_fitness(individual) > population_avg_score:\n",
    "                    new_population.append(individual)\n",
    "                else:\n",
    "                    new_population.append(self._mutate(individual, mutation_probability))\n",
    "        return new_population\n",
    "\n",
    "    def main(self, population_qty, qty_variables_per_individual, max_iterations=1000,\n",
    "             criterion_function='min', mutation_probability=0.5):\n",
    "        \"\"\"main function\"\"\"\n",
    "        population = self._create_population(qty_variables_per_individual, population_qty)\n",
    "        best_fitness_function_value, best_solution = self._get_best_individual(population, criterion_function)\n",
    "        iteration_number = 1\n",
    "        while iteration_number < max_iterations:\n",
    "            population = self._select_population(population, criterion_function, mutation_probability)\n",
    "            best_fitness_function_value, best_solution = self._get_best_individual(population, \n",
    "                                                                                        criterion_function)\n",
    "            iteration_number += 1\n",
    "\n",
    "        return best_fitness_function_value, best_solution"
   ]
  },
  {
   "cell_type": "markdown",
   "metadata": {},
   "source": [
    "## Testing according to the variant"
   ]
  },
  {
   "cell_type": "code",
   "execution_count": 7,
   "metadata": {
    "ExecuteTime": {
     "end_time": "2019-10-27T07:22:13.399567Z",
     "start_time": "2019-10-27T07:22:13.394459Z"
    }
   },
   "outputs": [],
   "source": [
    "alg_bukin = GeneticAlgorithm(bukin_function, [-15, -3], [-5, 3])"
   ]
  },
  {
   "cell_type": "code",
   "execution_count": 8,
   "metadata": {
    "ExecuteTime": {
     "end_time": "2019-10-27T07:25:22.075466Z",
     "start_time": "2019-10-27T07:22:15.330493Z"
    }
   },
   "outputs": [],
   "source": [
    "bukin_function_result = alg_bukin.main(100, 2, 40000)"
   ]
  },
  {
   "cell_type": "code",
   "execution_count": 9,
   "metadata": {
    "ExecuteTime": {
     "end_time": "2019-10-27T07:25:22.083516Z",
     "start_time": "2019-10-27T07:25:22.079219Z"
    }
   },
   "outputs": [],
   "source": [
    "alg_but = GeneticAlgorithm(but_function, [-10, -10], [10, 10])"
   ]
  },
  {
   "cell_type": "code",
   "execution_count": 10,
   "metadata": {
    "ExecuteTime": {
     "end_time": "2019-10-27T07:27:09.116583Z",
     "start_time": "2019-10-27T07:25:22.086234Z"
    }
   },
   "outputs": [],
   "source": [
    "but_function_result = alg_but.main(100, 2, 20000)"
   ]
  },
  {
   "cell_type": "code",
   "execution_count": 11,
   "metadata": {
    "ExecuteTime": {
     "end_time": "2019-10-27T07:27:09.125097Z",
     "start_time": "2019-10-27T07:27:09.120728Z"
    }
   },
   "outputs": [],
   "source": [
    "alg_makkormik = GeneticAlgorithm(makkormik_function, [-1.5, -3], [4, 4])"
   ]
  },
  {
   "cell_type": "code",
   "execution_count": 12,
   "metadata": {
    "ExecuteTime": {
     "end_time": "2019-10-27T07:27:57.789816Z",
     "start_time": "2019-10-27T07:27:09.128251Z"
    }
   },
   "outputs": [],
   "source": [
    "makkormik_function_result = alg_makkormik.main(100, 2, 10000)"
   ]
  },
  {
   "cell_type": "code",
   "execution_count": 13,
   "metadata": {
    "ExecuteTime": {
     "end_time": "2019-10-27T07:27:57.801059Z",
     "start_time": "2019-10-27T07:27:57.792284Z"
    }
   },
   "outputs": [
    {
     "data": {
      "text/plain": [
       "(0.5549905007220453, [array([-12.3654868]), array([1.52908087])])"
      ]
     },
     "execution_count": 13,
     "metadata": {},
     "output_type": "execute_result"
    }
   ],
   "source": [
    "bukin_function_result"
   ]
  },
  {
   "cell_type": "code",
   "execution_count": 14,
   "metadata": {
    "ExecuteTime": {
     "end_time": "2019-10-27T07:27:57.811599Z",
     "start_time": "2019-10-27T07:27:57.803358Z"
    }
   },
   "outputs": [
    {
     "data": {
      "text/plain": [
       "(0.0078082875801088894, [array([0.97189307]), array([2.9867468])])"
      ]
     },
     "execution_count": 14,
     "metadata": {},
     "output_type": "execute_result"
    }
   ],
   "source": [
    "but_function_result"
   ]
  },
  {
   "cell_type": "code",
   "execution_count": 15,
   "metadata": {
    "ExecuteTime": {
     "end_time": "2019-10-27T07:27:57.820614Z",
     "start_time": "2019-10-27T07:27:57.814566Z"
    }
   },
   "outputs": [
    {
     "data": {
      "text/plain": [
       "(-1.9127523225739056, [array([-0.52791212]), array([-1.53594977])])"
      ]
     },
     "execution_count": 15,
     "metadata": {},
     "output_type": "execute_result"
    }
   ],
   "source": [
    "makkormik_function_result"
   ]
  },
  {
   "cell_type": "markdown",
   "metadata": {},
   "source": [
    "## Experiments with different population size and qty of iterations"
   ]
  },
  {
   "cell_type": "code",
   "execution_count": 16,
   "metadata": {
    "ExecuteTime": {
     "end_time": "2019-10-27T07:31:13.744785Z",
     "start_time": "2019-10-27T07:31:13.730312Z"
    }
   },
   "outputs": [],
   "source": [
    "def make_analysis(function, lower_bounds, upper_bounds, \n",
    "                  qty_individuals_list, qty_iterations_list,\n",
    "                  function_title, qty_variables=2):\n",
    "    alg = GeneticAlgorithm(function, lower_bounds, upper_bounds)\n",
    "    df_result = pd.DataFrame(columns = ['{} value'.format(function_title), 'X', 'Y'],\n",
    "                            index = pd.MultiIndex.from_product([qty_iterations_list, qty_individuals_list]))\n",
    "    \n",
    "    df_result.index.names = ['Qty Iterations', 'Qty individuals']\n",
    "    \n",
    "    for qty_iter, qty_individ in itertools.product(qty_iterations_list, qty_individuals_list):\n",
    "        func_value, extremums = alg.main(qty_individ, qty_variables, qty_iter)\n",
    "        try:\n",
    "            extremums = list(itertools.chain(*extremums))\n",
    "        except:\n",
    "            pass\n",
    "        df_result.loc[(qty_iter, qty_individ), \n",
    "                      '{} value'.format(function_title)] = func_value\n",
    "        df_result.loc[(qty_iter, qty_individ), 'X'] = extremums[0]\n",
    "        df_result.loc[(qty_iter, qty_individ), 'Y'] = extremums[1]\n",
    "    \n",
    "    for col in df_result.columns:\n",
    "        df_result[col] = df_result[col].apply(lambda x: x[0] if isinstance(x, type(np.array([]))) else x)\n",
    "   \n",
    "    df_result = df_result.style.highlight_min(subset=['{} value'.format(function_title)])\n",
    "\n",
    "    return df_result"
   ]
  },
  {
   "cell_type": "markdown",
   "metadata": {},
   "source": [
    "### Bukin function"
   ]
  },
  {
   "cell_type": "code",
   "execution_count": 20,
   "metadata": {
    "ExecuteTime": {
     "end_time": "2019-10-27T07:43:01.749047Z",
     "start_time": "2019-10-27T07:31:46.980838Z"
    }
   },
   "outputs": [],
   "source": [
    "bukin_result = make_analysis(bukin_function, [-15, -3], [-5, 3], [50, 100, 200],\n",
    "                             [5000, 10000, 20000], 'Bukin Function')"
   ]
  },
  {
   "cell_type": "code",
   "execution_count": 21,
   "metadata": {
    "ExecuteTime": {
     "end_time": "2019-10-27T07:43:01.803593Z",
     "start_time": "2019-10-27T07:43:01.752891Z"
    }
   },
   "outputs": [
    {
     "data": {
      "text/html": [
       "<style  type=\"text/css\" >\n",
       "    #T_6741c0f2_f88d_11e9_a9c9_0242ac110002row1_col0 {\n",
       "            background-color:  yellow;\n",
       "        }</style>  \n",
       "<table id=\"T_6741c0f2_f88d_11e9_a9c9_0242ac110002\" > \n",
       "<thead>    <tr> \n",
       "        <th class=\"blank\" ></th> \n",
       "        <th class=\"blank level0\" ></th> \n",
       "        <th class=\"col_heading level0 col0\" >Bukin Function value</th> \n",
       "        <th class=\"col_heading level0 col1\" >X</th> \n",
       "        <th class=\"col_heading level0 col2\" >Y</th> \n",
       "    </tr>    <tr> \n",
       "        <th class=\"index_name level0\" >Qty Iterations</th> \n",
       "        <th class=\"index_name level1\" >Qty individuals</th> \n",
       "        <th class=\"blank\" ></th> \n",
       "        <th class=\"blank\" ></th> \n",
       "        <th class=\"blank\" ></th> \n",
       "    </tr></thead> \n",
       "<tbody>    <tr> \n",
       "        <th id=\"T_6741c0f2_f88d_11e9_a9c9_0242ac110002level0_row0\" class=\"row_heading level0 row0\" rowspan=3>5000</th> \n",
       "        <th id=\"T_6741c0f2_f88d_11e9_a9c9_0242ac110002level1_row0\" class=\"row_heading level1 row0\" >50</th> \n",
       "        <td id=\"T_6741c0f2_f88d_11e9_a9c9_0242ac110002row0_col0\" class=\"data row0 col0\" >2.18692</td> \n",
       "        <td id=\"T_6741c0f2_f88d_11e9_a9c9_0242ac110002row0_col1\" class=\"data row0 col1\" >-7.12695</td> \n",
       "        <td id=\"T_6741c0f2_f88d_11e9_a9c9_0242ac110002row0_col2\" class=\"data row0 col2\" >0.507469</td> \n",
       "    </tr>    <tr> \n",
       "        <th id=\"T_6741c0f2_f88d_11e9_a9c9_0242ac110002level1_row1\" class=\"row_heading level1 row1\" >100</th> \n",
       "        <td id=\"T_6741c0f2_f88d_11e9_a9c9_0242ac110002row1_col0\" class=\"data row1 col0\" >0.227896</td> \n",
       "        <td id=\"T_6741c0f2_f88d_11e9_a9c9_0242ac110002row1_col1\" class=\"data row1 col1\" >-11.9419</td> \n",
       "        <td id=\"T_6741c0f2_f88d_11e9_a9c9_0242ac110002row1_col2\" class=\"data row1 col2\" >1.42609</td> \n",
       "    </tr>    <tr> \n",
       "        <th id=\"T_6741c0f2_f88d_11e9_a9c9_0242ac110002level1_row2\" class=\"row_heading level1 row2\" >200</th> \n",
       "        <td id=\"T_6741c0f2_f88d_11e9_a9c9_0242ac110002row2_col0\" class=\"data row2 col0\" >0.259903</td> \n",
       "        <td id=\"T_6741c0f2_f88d_11e9_a9c9_0242ac110002row2_col1\" class=\"data row2 col1\" >-5.14828</td> \n",
       "        <td id=\"T_6741c0f2_f88d_11e9_a9c9_0242ac110002row2_col2\" class=\"data row2 col2\" >0.265043</td> \n",
       "    </tr>    <tr> \n",
       "        <th id=\"T_6741c0f2_f88d_11e9_a9c9_0242ac110002level0_row3\" class=\"row_heading level0 row3\" rowspan=3>10000</th> \n",
       "        <th id=\"T_6741c0f2_f88d_11e9_a9c9_0242ac110002level1_row3\" class=\"row_heading level1 row3\" >50</th> \n",
       "        <td id=\"T_6741c0f2_f88d_11e9_a9c9_0242ac110002row3_col0\" class=\"data row3 col0\" >1.15337</td> \n",
       "        <td id=\"T_6741c0f2_f88d_11e9_a9c9_0242ac110002row3_col1\" class=\"data row3 col1\" >-10.0102</td> \n",
       "        <td id=\"T_6741c0f2_f88d_11e9_a9c9_0242ac110002row3_col2\" class=\"data row3 col2\" >1.00217</td> \n",
       "    </tr>    <tr> \n",
       "        <th id=\"T_6741c0f2_f88d_11e9_a9c9_0242ac110002level1_row4\" class=\"row_heading level1 row4\" >100</th> \n",
       "        <td id=\"T_6741c0f2_f88d_11e9_a9c9_0242ac110002row4_col0\" class=\"data row4 col0\" >0.456427</td> \n",
       "        <td id=\"T_6741c0f2_f88d_11e9_a9c9_0242ac110002row4_col1\" class=\"data row4 col1\" >-13.823</td> \n",
       "        <td id=\"T_6741c0f2_f88d_11e9_a9c9_0242ac110002row4_col2\" class=\"data row4 col2\" >1.91072</td> \n",
       "    </tr>    <tr> \n",
       "        <th id=\"T_6741c0f2_f88d_11e9_a9c9_0242ac110002level1_row5\" class=\"row_heading level1 row5\" >200</th> \n",
       "        <td id=\"T_6741c0f2_f88d_11e9_a9c9_0242ac110002row5_col0\" class=\"data row5 col0\" >0.589087</td> \n",
       "        <td id=\"T_6741c0f2_f88d_11e9_a9c9_0242ac110002row5_col1\" class=\"data row5 col1\" >-10.7228</td> \n",
       "        <td id=\"T_6741c0f2_f88d_11e9_a9c9_0242ac110002row5_col2\" class=\"data row5 col2\" >1.14974</td> \n",
       "    </tr>    <tr> \n",
       "        <th id=\"T_6741c0f2_f88d_11e9_a9c9_0242ac110002level0_row6\" class=\"row_heading level0 row6\" rowspan=3>20000</th> \n",
       "        <th id=\"T_6741c0f2_f88d_11e9_a9c9_0242ac110002level1_row6\" class=\"row_heading level1 row6\" >50</th> \n",
       "        <td id=\"T_6741c0f2_f88d_11e9_a9c9_0242ac110002row6_col0\" class=\"data row6 col0\" >0.661894</td> \n",
       "        <td id=\"T_6741c0f2_f88d_11e9_a9c9_0242ac110002row6_col1\" class=\"data row6 col1\" >-5.38871</td> \n",
       "        <td id=\"T_6741c0f2_f88d_11e9_a9c9_0242ac110002row6_col2\" class=\"data row6 col2\" >0.29042</td> \n",
       "    </tr>    <tr> \n",
       "        <th id=\"T_6741c0f2_f88d_11e9_a9c9_0242ac110002level1_row7\" class=\"row_heading level1 row7\" >100</th> \n",
       "        <td id=\"T_6741c0f2_f88d_11e9_a9c9_0242ac110002row7_col0\" class=\"data row7 col0\" >0.488501</td> \n",
       "        <td id=\"T_6741c0f2_f88d_11e9_a9c9_0242ac110002row7_col1\" class=\"data row7 col1\" >-6.63543</td> \n",
       "        <td id=\"T_6741c0f2_f88d_11e9_a9c9_0242ac110002row7_col2\" class=\"data row7 col2\" >0.440268</td> \n",
       "    </tr>    <tr> \n",
       "        <th id=\"T_6741c0f2_f88d_11e9_a9c9_0242ac110002level1_row8\" class=\"row_heading level1 row8\" >200</th> \n",
       "        <td id=\"T_6741c0f2_f88d_11e9_a9c9_0242ac110002row8_col0\" class=\"data row8 col0\" >0.632816</td> \n",
       "        <td id=\"T_6741c0f2_f88d_11e9_a9c9_0242ac110002row8_col1\" class=\"data row8 col1\" >-7.11924</td> \n",
       "        <td id=\"T_6741c0f2_f88d_11e9_a9c9_0242ac110002row8_col2\" class=\"data row8 col2\" >0.506873</td> \n",
       "    </tr></tbody> \n",
       "</table> "
      ],
      "text/plain": [
       "<pandas.io.formats.style.Styler at 0x7f56d3b4a358>"
      ]
     },
     "execution_count": 21,
     "metadata": {},
     "output_type": "execute_result"
    }
   ],
   "source": [
    "bukin_result"
   ]
  },
  {
   "cell_type": "markdown",
   "metadata": {},
   "source": [
    "### But Function"
   ]
  },
  {
   "cell_type": "code",
   "execution_count": 22,
   "metadata": {
    "ExecuteTime": {
     "end_time": "2019-10-27T07:55:42.150137Z",
     "start_time": "2019-10-27T07:43:01.806118Z"
    }
   },
   "outputs": [],
   "source": [
    "but_result = make_analysis(but_function,  [-10, -10], [10, 10], [50, 100, 200],\n",
    "                             [5000, 10000, 20000], 'But Function')"
   ]
  },
  {
   "cell_type": "code",
   "execution_count": 23,
   "metadata": {
    "ExecuteTime": {
     "end_time": "2019-10-27T07:55:42.203883Z",
     "start_time": "2019-10-27T07:55:42.154567Z"
    }
   },
   "outputs": [
    {
     "data": {
      "text/html": [
       "<style  type=\"text/css\" >\n",
       "    #T_2c7d629e_f88f_11e9_a9c9_0242ac110002row0_col0 {\n",
       "            background-color:  yellow;\n",
       "        }</style>  \n",
       "<table id=\"T_2c7d629e_f88f_11e9_a9c9_0242ac110002\" > \n",
       "<thead>    <tr> \n",
       "        <th class=\"blank\" ></th> \n",
       "        <th class=\"blank level0\" ></th> \n",
       "        <th class=\"col_heading level0 col0\" >But Function value</th> \n",
       "        <th class=\"col_heading level0 col1\" >X</th> \n",
       "        <th class=\"col_heading level0 col2\" >Y</th> \n",
       "    </tr>    <tr> \n",
       "        <th class=\"index_name level0\" >Qty Iterations</th> \n",
       "        <th class=\"index_name level1\" >Qty individuals</th> \n",
       "        <th class=\"blank\" ></th> \n",
       "        <th class=\"blank\" ></th> \n",
       "        <th class=\"blank\" ></th> \n",
       "    </tr></thead> \n",
       "<tbody>    <tr> \n",
       "        <th id=\"T_2c7d629e_f88f_11e9_a9c9_0242ac110002level0_row0\" class=\"row_heading level0 row0\" rowspan=3>5000</th> \n",
       "        <th id=\"T_2c7d629e_f88f_11e9_a9c9_0242ac110002level1_row0\" class=\"row_heading level1 row0\" >50</th> \n",
       "        <td id=\"T_2c7d629e_f88f_11e9_a9c9_0242ac110002row0_col0\" class=\"data row0 col0\" >0.00332685</td> \n",
       "        <td id=\"T_2c7d629e_f88f_11e9_a9c9_0242ac110002row0_col1\" class=\"data row0 col1\" >1.04298</td> \n",
       "        <td id=\"T_2c7d629e_f88f_11e9_a9c9_0242ac110002row0_col2\" class=\"data row0 col2\" >2.96622</td> \n",
       "    </tr>    <tr> \n",
       "        <th id=\"T_2c7d629e_f88f_11e9_a9c9_0242ac110002level1_row1\" class=\"row_heading level1 row1\" >100</th> \n",
       "        <td id=\"T_2c7d629e_f88f_11e9_a9c9_0242ac110002row1_col0\" class=\"data row1 col0\" >0.579834</td> \n",
       "        <td id=\"T_2c7d629e_f88f_11e9_a9c9_0242ac110002row1_col1\" class=\"data row1 col1\" >1.06737</td> \n",
       "        <td id=\"T_2c7d629e_f88f_11e9_a9c9_0242ac110002row1_col2\" class=\"data row1 col2\" >3.28424</td> \n",
       "    </tr>    <tr> \n",
       "        <th id=\"T_2c7d629e_f88f_11e9_a9c9_0242ac110002level1_row2\" class=\"row_heading level1 row2\" >200</th> \n",
       "        <td id=\"T_2c7d629e_f88f_11e9_a9c9_0242ac110002row2_col0\" class=\"data row2 col0\" >0.0574169</td> \n",
       "        <td id=\"T_2c7d629e_f88f_11e9_a9c9_0242ac110002row2_col1\" class=\"data row2 col1\" >0.888796</td> \n",
       "        <td id=\"T_2c7d629e_f88f_11e9_a9c9_0242ac110002row2_col2\" class=\"data row2 col2\" >3.00511</td> \n",
       "    </tr>    <tr> \n",
       "        <th id=\"T_2c7d629e_f88f_11e9_a9c9_0242ac110002level0_row3\" class=\"row_heading level0 row3\" rowspan=3>10000</th> \n",
       "        <th id=\"T_2c7d629e_f88f_11e9_a9c9_0242ac110002level1_row3\" class=\"row_heading level1 row3\" >50</th> \n",
       "        <td id=\"T_2c7d629e_f88f_11e9_a9c9_0242ac110002row3_col0\" class=\"data row3 col0\" >0.0584768</td> \n",
       "        <td id=\"T_2c7d629e_f88f_11e9_a9c9_0242ac110002row3_col1\" class=\"data row3 col1\" >1.1771</td> \n",
       "        <td id=\"T_2c7d629e_f88f_11e9_a9c9_0242ac110002row3_col2\" class=\"data row3 col2\" >2.87841</td> \n",
       "    </tr>    <tr> \n",
       "        <th id=\"T_2c7d629e_f88f_11e9_a9c9_0242ac110002level1_row4\" class=\"row_heading level1 row4\" >100</th> \n",
       "        <td id=\"T_2c7d629e_f88f_11e9_a9c9_0242ac110002row4_col0\" class=\"data row4 col0\" >0.00595333</td> \n",
       "        <td id=\"T_2c7d629e_f88f_11e9_a9c9_0242ac110002row4_col1\" class=\"data row4 col1\" >1.04071</td> \n",
       "        <td id=\"T_2c7d629e_f88f_11e9_a9c9_0242ac110002row4_col2\" class=\"data row4 col2\" >2.9918</td> \n",
       "    </tr>    <tr> \n",
       "        <th id=\"T_2c7d629e_f88f_11e9_a9c9_0242ac110002level1_row5\" class=\"row_heading level1 row5\" >200</th> \n",
       "        <td id=\"T_2c7d629e_f88f_11e9_a9c9_0242ac110002row5_col0\" class=\"data row5 col0\" >0.00707774</td> \n",
       "        <td id=\"T_2c7d629e_f88f_11e9_a9c9_0242ac110002row5_col1\" class=\"data row5 col1\" >1.02941</td> \n",
       "        <td id=\"T_2c7d629e_f88f_11e9_a9c9_0242ac110002row5_col2\" class=\"data row5 col2\" >2.94324</td> \n",
       "    </tr>    <tr> \n",
       "        <th id=\"T_2c7d629e_f88f_11e9_a9c9_0242ac110002level0_row6\" class=\"row_heading level0 row6\" rowspan=3>20000</th> \n",
       "        <th id=\"T_2c7d629e_f88f_11e9_a9c9_0242ac110002level1_row6\" class=\"row_heading level1 row6\" >50</th> \n",
       "        <td id=\"T_2c7d629e_f88f_11e9_a9c9_0242ac110002row6_col0\" class=\"data row6 col0\" >0.0277775</td> \n",
       "        <td id=\"T_2c7d629e_f88f_11e9_a9c9_0242ac110002row6_col1\" class=\"data row6 col1\" >0.938735</td> \n",
       "        <td id=\"T_2c7d629e_f88f_11e9_a9c9_0242ac110002row6_col2\" class=\"data row6 col2\" >3.11385</td> \n",
       "    </tr>    <tr> \n",
       "        <th id=\"T_2c7d629e_f88f_11e9_a9c9_0242ac110002level1_row7\" class=\"row_heading level1 row7\" >100</th> \n",
       "        <td id=\"T_2c7d629e_f88f_11e9_a9c9_0242ac110002row7_col0\" class=\"data row7 col0\" >0.0698657</td> \n",
       "        <td id=\"T_2c7d629e_f88f_11e9_a9c9_0242ac110002row7_col1\" class=\"data row7 col1\" >0.845778</td> \n",
       "        <td id=\"T_2c7d629e_f88f_11e9_a9c9_0242ac110002row7_col2\" class=\"data row7 col2\" >3.04982</td> \n",
       "    </tr>    <tr> \n",
       "        <th id=\"T_2c7d629e_f88f_11e9_a9c9_0242ac110002level1_row8\" class=\"row_heading level1 row8\" >200</th> \n",
       "        <td id=\"T_2c7d629e_f88f_11e9_a9c9_0242ac110002row8_col0\" class=\"data row8 col0\" >0.036846</td> \n",
       "        <td id=\"T_2c7d629e_f88f_11e9_a9c9_0242ac110002row8_col1\" class=\"data row8 col1\" >1.08718</td> \n",
       "        <td id=\"T_2c7d629e_f88f_11e9_a9c9_0242ac110002row8_col2\" class=\"data row8 col2\" >2.99833</td> \n",
       "    </tr></tbody> \n",
       "</table> "
      ],
      "text/plain": [
       "<pandas.io.formats.style.Styler at 0x7f56d40fe550>"
      ]
     },
     "execution_count": 23,
     "metadata": {},
     "output_type": "execute_result"
    }
   ],
   "source": [
    "but_result"
   ]
  },
  {
   "cell_type": "markdown",
   "metadata": {},
   "source": [
    "### Makkormik Function"
   ]
  },
  {
   "cell_type": "code",
   "execution_count": 24,
   "metadata": {
    "ExecuteTime": {
     "end_time": "2019-10-27T08:07:31.512239Z",
     "start_time": "2019-10-27T07:55:42.207548Z"
    }
   },
   "outputs": [],
   "source": [
    "makkormik_result = make_analysis(makkormik_function,  [-1.5, -3], [4, 4], [50, 100, 200],\n",
    "                             [5000, 10000, 20000], 'Makkormik Function')"
   ]
  },
  {
   "cell_type": "code",
   "execution_count": 25,
   "metadata": {
    "ExecuteTime": {
     "end_time": "2019-10-27T08:07:31.564256Z",
     "start_time": "2019-10-27T08:07:31.514587Z"
    }
   },
   "outputs": [
    {
     "data": {
      "text/html": [
       "<style  type=\"text/css\" >\n",
       "    #T_d34d6be0_f890_11e9_a9c9_0242ac110002row8_col0 {\n",
       "            background-color:  yellow;\n",
       "        }</style>  \n",
       "<table id=\"T_d34d6be0_f890_11e9_a9c9_0242ac110002\" > \n",
       "<thead>    <tr> \n",
       "        <th class=\"blank\" ></th> \n",
       "        <th class=\"blank level0\" ></th> \n",
       "        <th class=\"col_heading level0 col0\" >Makkormik Function value</th> \n",
       "        <th class=\"col_heading level0 col1\" >X</th> \n",
       "        <th class=\"col_heading level0 col2\" >Y</th> \n",
       "    </tr>    <tr> \n",
       "        <th class=\"index_name level0\" >Qty Iterations</th> \n",
       "        <th class=\"index_name level1\" >Qty individuals</th> \n",
       "        <th class=\"blank\" ></th> \n",
       "        <th class=\"blank\" ></th> \n",
       "        <th class=\"blank\" ></th> \n",
       "    </tr></thead> \n",
       "<tbody>    <tr> \n",
       "        <th id=\"T_d34d6be0_f890_11e9_a9c9_0242ac110002level0_row0\" class=\"row_heading level0 row0\" rowspan=3>5000</th> \n",
       "        <th id=\"T_d34d6be0_f890_11e9_a9c9_0242ac110002level1_row0\" class=\"row_heading level1 row0\" >50</th> \n",
       "        <td id=\"T_d34d6be0_f890_11e9_a9c9_0242ac110002row0_col0\" class=\"data row0 col0\" >-1.90426</td> \n",
       "        <td id=\"T_d34d6be0_f890_11e9_a9c9_0242ac110002row0_col1\" class=\"data row0 col1\" >-0.608349</td> \n",
       "        <td id=\"T_d34d6be0_f890_11e9_a9c9_0242ac110002row0_col2\" class=\"data row0 col2\" >-1.51568</td> \n",
       "    </tr>    <tr> \n",
       "        <th id=\"T_d34d6be0_f890_11e9_a9c9_0242ac110002level1_row1\" class=\"row_heading level1 row1\" >100</th> \n",
       "        <td id=\"T_d34d6be0_f890_11e9_a9c9_0242ac110002row1_col0\" class=\"data row1 col0\" >-1.909</td> \n",
       "        <td id=\"T_d34d6be0_f890_11e9_a9c9_0242ac110002row1_col1\" class=\"data row1 col1\" >-0.488786</td> \n",
       "        <td id=\"T_d34d6be0_f890_11e9_a9c9_0242ac110002row1_col2\" class=\"data row1 col2\" >-1.53056</td> \n",
       "    </tr>    <tr> \n",
       "        <th id=\"T_d34d6be0_f890_11e9_a9c9_0242ac110002level1_row2\" class=\"row_heading level1 row2\" >200</th> \n",
       "        <td id=\"T_d34d6be0_f890_11e9_a9c9_0242ac110002row2_col0\" class=\"data row2 col0\" >-1.91299</td> \n",
       "        <td id=\"T_d34d6be0_f890_11e9_a9c9_0242ac110002row2_col1\" class=\"data row2 col1\" >-0.54197</td> \n",
       "        <td id=\"T_d34d6be0_f890_11e9_a9c9_0242ac110002row2_col2\" class=\"data row2 col2\" >-1.55682</td> \n",
       "    </tr>    <tr> \n",
       "        <th id=\"T_d34d6be0_f890_11e9_a9c9_0242ac110002level0_row3\" class=\"row_heading level0 row3\" rowspan=3>10000</th> \n",
       "        <th id=\"T_d34d6be0_f890_11e9_a9c9_0242ac110002level1_row3\" class=\"row_heading level1 row3\" >50</th> \n",
       "        <td id=\"T_d34d6be0_f890_11e9_a9c9_0242ac110002row3_col0\" class=\"data row3 col0\" >-1.91217</td> \n",
       "        <td id=\"T_d34d6be0_f890_11e9_a9c9_0242ac110002row3_col1\" class=\"data row3 col1\" >-0.519759</td> \n",
       "        <td id=\"T_d34d6be0_f890_11e9_a9c9_0242ac110002row3_col2\" class=\"data row3 col2\" >-1.52662</td> \n",
       "    </tr>    <tr> \n",
       "        <th id=\"T_d34d6be0_f890_11e9_a9c9_0242ac110002level1_row4\" class=\"row_heading level1 row4\" >100</th> \n",
       "        <td id=\"T_d34d6be0_f890_11e9_a9c9_0242ac110002row4_col0\" class=\"data row4 col0\" >-1.91076</td> \n",
       "        <td id=\"T_d34d6be0_f890_11e9_a9c9_0242ac110002row4_col1\" class=\"data row4 col1\" >-0.592243</td> \n",
       "        <td id=\"T_d34d6be0_f890_11e9_a9c9_0242ac110002row4_col2\" class=\"data row4 col2\" >-1.56047</td> \n",
       "    </tr>    <tr> \n",
       "        <th id=\"T_d34d6be0_f890_11e9_a9c9_0242ac110002level1_row5\" class=\"row_heading level1 row5\" >200</th> \n",
       "        <td id=\"T_d34d6be0_f890_11e9_a9c9_0242ac110002row5_col0\" class=\"data row5 col0\" >-1.91261</td> \n",
       "        <td id=\"T_d34d6be0_f890_11e9_a9c9_0242ac110002row5_col1\" class=\"data row5 col1\" >-0.553454</td> \n",
       "        <td id=\"T_d34d6be0_f890_11e9_a9c9_0242ac110002row5_col2\" class=\"data row5 col2\" >-1.56952</td> \n",
       "    </tr>    <tr> \n",
       "        <th id=\"T_d34d6be0_f890_11e9_a9c9_0242ac110002level0_row6\" class=\"row_heading level0 row6\" rowspan=3>20000</th> \n",
       "        <th id=\"T_d34d6be0_f890_11e9_a9c9_0242ac110002level1_row6\" class=\"row_heading level1 row6\" >50</th> \n",
       "        <td id=\"T_d34d6be0_f890_11e9_a9c9_0242ac110002row6_col0\" class=\"data row6 col0\" >-1.91269</td> \n",
       "        <td id=\"T_d34d6be0_f890_11e9_a9c9_0242ac110002row6_col1\" class=\"data row6 col1\" >-0.5591</td> \n",
       "        <td id=\"T_d34d6be0_f890_11e9_a9c9_0242ac110002row6_col2\" class=\"data row6 col2\" >-1.53595</td> \n",
       "    </tr>    <tr> \n",
       "        <th id=\"T_d34d6be0_f890_11e9_a9c9_0242ac110002level1_row7\" class=\"row_heading level1 row7\" >100</th> \n",
       "        <td id=\"T_d34d6be0_f890_11e9_a9c9_0242ac110002row7_col0\" class=\"data row7 col0\" >-1.91229</td> \n",
       "        <td id=\"T_d34d6be0_f890_11e9_a9c9_0242ac110002row7_col1\" class=\"data row7 col1\" >-0.559631</td> \n",
       "        <td id=\"T_d34d6be0_f890_11e9_a9c9_0242ac110002row7_col2\" class=\"data row7 col2\" >-1.52931</td> \n",
       "    </tr>    <tr> \n",
       "        <th id=\"T_d34d6be0_f890_11e9_a9c9_0242ac110002level1_row8\" class=\"row_heading level1 row8\" >200</th> \n",
       "        <td id=\"T_d34d6be0_f890_11e9_a9c9_0242ac110002row8_col0\" class=\"data row8 col0\" >-1.91316</td> \n",
       "        <td id=\"T_d34d6be0_f890_11e9_a9c9_0242ac110002row8_col1\" class=\"data row8 col1\" >-0.547729</td> \n",
       "        <td id=\"T_d34d6be0_f890_11e9_a9c9_0242ac110002row8_col2\" class=\"data row8 col2\" >-1.55379</td> \n",
       "    </tr></tbody> \n",
       "</table> "
      ],
      "text/plain": [
       "<pandas.io.formats.style.Styler at 0x7f56d4eaceb8>"
      ]
     },
     "execution_count": 25,
     "metadata": {},
     "output_type": "execute_result"
    }
   ],
   "source": [
    "makkormik_result"
   ]
  },
  {
   "cell_type": "markdown",
   "metadata": {},
   "source": [
    "## Comparsion with gradient descent method"
   ]
  },
  {
   "cell_type": "markdown",
   "metadata": {},
   "source": [
    "### Bukin Function"
   ]
  },
  {
   "cell_type": "code",
   "execution_count": 26,
   "metadata": {
    "ExecuteTime": {
     "end_time": "2019-10-27T08:08:35.656374Z",
     "start_time": "2019-10-27T08:08:11.662375Z"
    },
    "scrolled": true
   },
   "outputs": [
    {
     "name": "stdout",
     "output_type": "stream",
     "text": [
      "number of iteration: 2, current point: [ 1.51688065 -0.06529266], function value: 29.83080940613728\n",
      "number of iteration: 3, current point: [1.51188588 0.09902527], function value: 27.713538939627707\n",
      "number of iteration: 4, current point: [1.51455588 0.01056346], function value: 11.239595725350021\n",
      "number of iteration: 5, current point: [1.51414008 0.0242799 ], function value: 3.794405446241665\n",
      "number of iteration: 6, current point: [1.51421856 0.02168786], function value: 3.6375283832745264\n",
      "number of iteration: 7, current point: [1.51417755 0.0230416 ], function value: 1.184093155262148\n",
      "number of iteration: 8, current point: [1.51418177 0.02290207], function value: 0.619084649541567\n",
      "number of iteration: 9, current point: [1.51418065 0.0229398 ], function value: 0.466843722330998\n",
      "number of iteration: 10, current point: [1.51418106 0.02292494], function value: 0.2732207238150566\n",
      "number of iteration: 11, current point: [1.51418016 0.02292865], function value: 0.22638281314664804\n",
      "number of iteration: 12, current point: [1.51418144 0.02292683], function value: 0.1943224299781589\n",
      "number of iteration: 13, current point: [1.5141796  0.02292775], function value: 0.17450657255824364\n",
      "number of iteration: 14, current point: [1.51418233 0.02292723], function value: 0.1650784556890102\n",
      "number of iteration: 15, current point: [1.51417995 0.0229276 ], function value: 0.1587366144941537\n",
      "number of iteration: 16, current point: [1.51418165 0.02292732], function value: 0.15275367011899002\n",
      "number of iteration: 17, current point: [1.51418042 0.02292753], function value: 0.1474224420104408\n",
      "number of iteration: 18, current point: [1.51418132 0.02292737], function value: 0.14277571678958367\n",
      "number of iteration: 19, current point: [1.51418066 0.02292749], function value: 0.13876709319203767\n",
      "number of iteration: 20, current point: [1.51418114 0.0229274 ], function value: 0.13532597844988462\n",
      "number of iteration: 21, current point: [1.51418079 0.02292746], function value: 0.1323801610380678\n",
      "number of iteration: 22, current point: [1.51418105 0.02292742], function value: 0.1298611787090429\n",
      "number of iteration: 23, current point: [1.51418086 0.02292745], function value: 0.12770939385041977\n",
      "number of iteration: 24, current point: [1.514181   0.02292743], function value: 0.12587117101094605\n",
      "number of iteration: 25, current point: [1.5141809  0.02292745], function value: 0.12430206720283313\n",
      "number of iteration: 26, current point: [1.51418097 0.02292743], function value: 0.1229617244610231\n",
      "number of iteration: 27, current point: [1.51418092 0.02292744], function value: 0.12181814555684502\n",
      "number of iteration: 28, current point: [1.51418096 0.02292744], function value: 0.12084096305308459\n",
      "number of iteration: 29, current point: [1.51418093 0.02292744], function value: 0.120007750769822\n",
      "number of iteration: 30, current point: [1.51418095 0.02292744], function value: 0.11929522873267608\n",
      "number of iteration: 31, current point: [1.51418093 0.02292744], function value: 0.11868835116082092\n",
      "number of iteration: 32, current point: [1.51418094 0.02292744], function value: 0.11816860962134147\n",
      "number of iteration: 33, current point: [1.51418094 0.02292744], function value: 0.11772683515842607\n",
      "number of iteration: 34, current point: [1.51418094 0.02292744], function value: 0.11734743015117044\n",
      "number of iteration: 35, current point: [1.51418094 0.02292744], function value: 0.11702618009543284\n",
      "number of iteration: 36, current point: [1.51418094 0.02292744], function value: 0.1167488256215409\n",
      "number of iteration: 37, current point: [1.51418094 0.02292744], function value: 0.1165156820374937\n",
      "number of iteration: 38, current point: [1.51418094 0.02292744], function value: 0.11631238958303494\n",
      "number of iteration: 39, current point: [1.51418094 0.02292744], function value: 0.1161438251568926\n",
      "number of iteration: 40, current point: [1.51418094 0.02292744], function value: 0.11599407961231\n",
      "number of iteration: 41, current point: [1.51418094 0.02292744], function value: 0.11587308361287078\n",
      "number of iteration: 42, current point: [1.51418094 0.02292744], function value: 0.11576177305578503\n",
      "number of iteration: 43, current point: [1.51418094 0.02292744], function value: 0.1156761344334574\n",
      "number of iteration: 44, current point: [1.51418094 0.02292744], function value: 0.11559202447972329\n",
      "number of iteration: 45, current point: [1.51418094 0.02292744], function value: 0.11553309864795851\n",
      "number of iteration: 46, current point: [1.51418094 0.02292744], function value: 0.11546769687247523\n",
      "number of iteration: 47, current point: [1.51418094 0.02292744], function value: 0.1154295316979709\n",
      "number of iteration: 48, current point: [1.51418094 0.02292744], function value: 0.11537622496563404\n",
      "number of iteration: 49, current point: [1.51418094 0.02292744], function value: 0.11535495565915527\n",
      "number of iteration: 50, current point: [1.51418094 0.02292744], function value: 0.11530832580308951\n",
      "number of iteration: 51, current point: [1.51418094 0.02292744], function value: 0.11530178144004609\n",
      "number of iteration: 52, current point: [1.51418094 0.02292744], function value: 0.11525699618454109\n",
      "number of iteration: 53, current point: [1.51418094 0.02292744], function value: 0.1151716820597249\n"
     ]
    },
    {
     "ename": "KeyboardInterrupt",
     "evalue": "",
     "output_type": "error",
     "traceback": [
      "\u001b[0;31m---------------------------------------------------------------------------\u001b[0m",
      "\u001b[0;31mKeyboardInterrupt\u001b[0m                         Traceback (most recent call last)",
      "\u001b[0;32m<ipython-input-26-94a1630ad657>\u001b[0m in \u001b[0;36m<module>\u001b[0;34m\u001b[0m\n\u001b[0;32m----> 1\u001b[0;31m \u001b[0mclassic_method_results_bukin\u001b[0m \u001b[0;34m=\u001b[0m \u001b[0moptimization_methods\u001b[0m\u001b[0;34m.\u001b[0m\u001b[0mgradient_descent\u001b[0m\u001b[0;34m(\u001b[0m\u001b[0mbukin_function\u001b[0m\u001b[0;34m,\u001b[0m \u001b[0;34m[\u001b[0m\u001b[0;36m1.5\u001b[0m\u001b[0;34m,\u001b[0m \u001b[0;36m0.5\u001b[0m\u001b[0;34m]\u001b[0m\u001b[0;34m,\u001b[0m \u001b[0;36m1e-5\u001b[0m\u001b[0;34m)\u001b[0m\u001b[0;34m\u001b[0m\u001b[0m\n\u001b[0m",
      "\u001b[0;32m~/Optimization/optimization_methods.py\u001b[0m in \u001b[0;36mgradient_descent\u001b[0;34m(func, params, eps)\u001b[0m\n\u001b[1;32m    203\u001b[0m         \u001b[0;32mwhile\u001b[0m\u001b[0;34m(\u001b[0m\u001b[0mfunc\u001b[0m\u001b[0;34m(\u001b[0m\u001b[0;34m*\u001b[0m\u001b[0;34m(\u001b[0m\u001b[0mdot0\u001b[0m\u001b[0;34m-\u001b[0m\u001b[0mstep\u001b[0m\u001b[0;34m*\u001b[0m\u001b[0mgradient\u001b[0m\u001b[0;34m(\u001b[0m\u001b[0mfunc\u001b[0m\u001b[0;34m,\u001b[0m \u001b[0meps\u001b[0m\u001b[0;34m,\u001b[0m \u001b[0mdot0\u001b[0m\u001b[0;34m.\u001b[0m\u001b[0mtolist\u001b[0m\u001b[0;34m(\u001b[0m\u001b[0;34m)\u001b[0m\u001b[0;34m)\u001b[0m\u001b[0;34m)\u001b[0m\u001b[0;34m)\u001b[0m\u001b[0;34m<\u001b[0m\u001b[0mf0\u001b[0m\u001b[0;34m)\u001b[0m\u001b[0;34m:\u001b[0m\u001b[0;34m\u001b[0m\u001b[0m\n\u001b[1;32m    204\u001b[0m             \u001b[0mstep\u001b[0m\u001b[0;34m*=\u001b[0m\u001b[0;36m2\u001b[0m\u001b[0;34m\u001b[0m\u001b[0m\n\u001b[0;32m--> 205\u001b[0;31m         \u001b[0;32mwhile\u001b[0m\u001b[0;34m(\u001b[0m\u001b[0mfunc\u001b[0m\u001b[0;34m(\u001b[0m\u001b[0;34m*\u001b[0m\u001b[0;34m(\u001b[0m\u001b[0mdot0\u001b[0m\u001b[0;34m-\u001b[0m\u001b[0mstep\u001b[0m\u001b[0;34m*\u001b[0m\u001b[0mgradient\u001b[0m\u001b[0;34m(\u001b[0m\u001b[0mfunc\u001b[0m\u001b[0;34m,\u001b[0m \u001b[0meps\u001b[0m\u001b[0;34m,\u001b[0m \u001b[0mdot0\u001b[0m\u001b[0;34m.\u001b[0m\u001b[0mtolist\u001b[0m\u001b[0;34m(\u001b[0m\u001b[0;34m)\u001b[0m\u001b[0;34m)\u001b[0m\u001b[0;34m)\u001b[0m\u001b[0;34m)\u001b[0m\u001b[0;34m>=\u001b[0m\u001b[0mf0\u001b[0m\u001b[0;34m)\u001b[0m\u001b[0;34m:\u001b[0m\u001b[0;34m\u001b[0m\u001b[0m\n\u001b[0m\u001b[1;32m    206\u001b[0m             \u001b[0mstep\u001b[0m\u001b[0;34m*=\u001b[0m\u001b[0;36m0.5\u001b[0m\u001b[0;34m\u001b[0m\u001b[0m\n\u001b[1;32m    207\u001b[0m \u001b[0;34m\u001b[0m\u001b[0m\n",
      "\u001b[0;31mKeyboardInterrupt\u001b[0m: "
     ]
    }
   ],
   "source": [
    "classic_method_results_bukin = optimization_methods.gradient_descent(bukin_function, [1.5, 0.5], 1e-5)"
   ]
  },
  {
   "cell_type": "markdown",
   "metadata": {},
   "source": [
    "### But Function"
   ]
  },
  {
   "cell_type": "code",
   "execution_count": 27,
   "metadata": {
    "ExecuteTime": {
     "end_time": "2019-10-27T08:08:43.828042Z",
     "start_time": "2019-10-27T08:08:43.816192Z"
    }
   },
   "outputs": [
    {
     "name": "stdout",
     "output_type": "stream",
     "text": [
      "number of iteration: 2, current point: [0.75 2.75], function value: 1.1249999992333812\n",
      "number of iteration: 3, current point: [1.03125 3.03125], function value: 0.017578124985490273\n",
      "number of iteration: 4, current point: [0.99609375 2.99609375], function value: 0.00027465820293115506\n",
      "number of iteration: 5, current point: [1.00048828 3.00048828], function value: 4.291534420734246e-06\n",
      "number of iteration: 6, current point: [0.99993896 2.99993896], function value: 6.705522534076417e-08\n",
      "number of iteration: 7, current point: [1.00000763 3.00000763], function value: 1.0477378961171527e-09\n",
      "number of iteration: 8, current point: [0.99999905 2.99999905], function value: 1.637090462683051e-11\n",
      "number of iteration: 9, current point: [1.00000012 3.00000012], function value: 2.557953855089113e-13\n",
      "Precision: 3.034573095921973e-06\n"
     ]
    }
   ],
   "source": [
    "classic_method_results_but = optimization_methods.gradient_descent(but_function, [3, 5], 1e-5)"
   ]
  },
  {
   "cell_type": "code",
   "execution_count": 28,
   "metadata": {
    "ExecuteTime": {
     "end_time": "2019-10-27T08:08:48.042700Z",
     "start_time": "2019-10-27T08:08:47.404785Z"
    }
   },
   "outputs": [],
   "source": [
    "plot_methods.plot_contour_and_scatter_of_descent(but_function, classic_method_results_but, \n",
    "                                                x_range=np.arange(-10, 10, 0.1), y_range=np.arange(-10, 10, 0.1),\n",
    "                                            title = 'But Function contour and scatter of gradient descent method',\n",
    "                                                only_save=True)"
   ]
  },
  {
   "cell_type": "markdown",
   "metadata": {},
   "source": [
    "### Makkormik Function"
   ]
  },
  {
   "cell_type": "code",
   "execution_count": 29,
   "metadata": {
    "ExecuteTime": {
     "end_time": "2019-10-27T08:08:51.417983Z",
     "start_time": "2019-10-27T08:08:51.408122Z"
    }
   },
   "outputs": [
    {
     "name": "stdout",
     "output_type": "stream",
     "text": [
      "number of iteration: 2, current point: [ 0.25 -1.75], function value: -0.747494986589821\n",
      "number of iteration: 3, current point: [-1.0353686 -1.0353686], function value: -0.9129795073087283\n",
      "number of iteration: 4, current point: [-0.04568178 -2.04568178], function value: -0.9132189731070119\n",
      "number of iteration: 5, current point: [-1.04699562 -1.04699562], function value: -0.9132228843397694\n",
      "number of iteration: 6, current point: [-0.04717052 -2.04717052], function value: -0.9132229536557674\n",
      "number of iteration: 7, current point: [-1.04719393 -1.04719393], function value: -0.9132229548806063\n",
      "number of iteration: 8, current point: [-0.5471955 -1.5471955], function value: -1.9132229549737345\n",
      "Precision: 5.029445771150593e-06\n"
     ]
    }
   ],
   "source": [
    "method_results = optimization_methods.gradient_descent(makkormik_function, [0, 0], 1e-5)"
   ]
  },
  {
   "cell_type": "code",
   "execution_count": 30,
   "metadata": {
    "ExecuteTime": {
     "end_time": "2019-10-27T08:08:56.021343Z",
     "start_time": "2019-10-27T08:08:55.704189Z"
    }
   },
   "outputs": [],
   "source": [
    "plot_methods.plot_contour_and_scatter_of_descent(makkormik_function, method_results, \n",
    "                                                 x_range=np.arange(-1.5, 4, 0.1), y_range=np.arange(-3, 4, 0.1), \n",
    "                                            title = 'Makkormik Function contour and scatter of gradient descent method',\n",
    "                                                only_save=True)"
   ]
  },
  {
   "cell_type": "code",
   "execution_count": null,
   "metadata": {},
   "outputs": [],
   "source": []
  },
  {
   "cell_type": "code",
   "execution_count": null,
   "metadata": {},
   "outputs": [],
   "source": []
  },
  {
   "cell_type": "code",
   "execution_count": null,
   "metadata": {},
   "outputs": [],
   "source": []
  },
  {
   "cell_type": "code",
   "execution_count": null,
   "metadata": {},
   "outputs": [],
   "source": []
  },
  {
   "cell_type": "code",
   "execution_count": null,
   "metadata": {},
   "outputs": [],
   "source": []
  },
  {
   "cell_type": "code",
   "execution_count": null,
   "metadata": {},
   "outputs": [],
   "source": []
  },
  {
   "cell_type": "code",
   "execution_count": null,
   "metadata": {},
   "outputs": [],
   "source": []
  },
  {
   "cell_type": "code",
   "execution_count": null,
   "metadata": {},
   "outputs": [],
   "source": []
  },
  {
   "cell_type": "code",
   "execution_count": null,
   "metadata": {},
   "outputs": [],
   "source": []
  },
  {
   "cell_type": "code",
   "execution_count": null,
   "metadata": {},
   "outputs": [],
   "source": []
  }
 ],
 "metadata": {
  "kernelspec": {
   "display_name": "Python 3",
   "language": "python",
   "name": "python3"
  },
  "language_info": {
   "codemirror_mode": {
    "name": "ipython",
    "version": 3
   },
   "file_extension": ".py",
   "mimetype": "text/x-python",
   "name": "python",
   "nbconvert_exporter": "python",
   "pygments_lexer": "ipython3",
   "version": "3.6.6"
  },
  "toc": {
   "base_numbering": 1,
   "nav_menu": {},
   "number_sections": true,
   "sideBar": true,
   "skip_h1_title": false,
   "title_cell": "Table of Contents",
   "title_sidebar": "Contents",
   "toc_cell": false,
   "toc_position": {},
   "toc_section_display": true,
   "toc_window_display": false
  }
 },
 "nbformat": 4,
 "nbformat_minor": 2
}
