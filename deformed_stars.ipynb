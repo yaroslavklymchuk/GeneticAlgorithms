{
 "cells": [
  {
   "cell_type": "code",
   "execution_count": 1,
   "metadata": {
    "ExecuteTime": {
     "end_time": "2019-11-02T14:43:32.448194Z",
     "start_time": "2019-11-02T14:43:32.015158Z"
    }
   },
   "outputs": [],
   "source": [
    "import pandas as pd\n",
    "import numpy as np\n",
    "import itertools\n",
    "import math\n",
    "import random"
   ]
  },
  {
   "cell_type": "markdown",
   "metadata": {},
   "source": [
    "## Functions initializations"
   ]
  },
  {
   "cell_type": "code",
   "execution_count": 2,
   "metadata": {
    "ExecuteTime": {
     "end_time": "2019-11-02T14:43:32.474694Z",
     "start_time": "2019-11-02T14:43:32.462914Z"
    }
   },
   "outputs": [],
   "source": [
    "bukin_function = lambda x, y: 100*math.sqrt(abs(y - 0.01*pow(x, 2))) + 0.01*abs(x+10)\n",
    "makkormik_function = lambda x, y: math.sin(x + y) + pow(x-y, 2) - 1.5*x + 2.5*y + 1\n",
    "but_function = lambda x, y: pow(x + 2*y - 7, 2) + pow(2*x + y - 5, 2)"
   ]
  },
  {
   "cell_type": "markdown",
   "metadata": {},
   "source": [
    "## Implementation of Deformed stars method"
   ]
  },
  {
   "cell_type": "code",
   "execution_count": 3,
   "metadata": {
    "ExecuteTime": {
     "end_time": "2019-11-02T14:43:32.583635Z",
     "start_time": "2019-11-02T14:43:32.504117Z"
    }
   },
   "outputs": [],
   "source": [
    "class Deformed_Star:\n",
    "\n",
    "    def __init__(self, function, lower_bounds, upper_bounds):\n",
    "        self.function = function\n",
    "        self.lower_bounds = lower_bounds\n",
    "        self.upper_bounds = upper_bounds\n",
    "\n",
    "    def _calculate_fitness(self, population):\n",
    "        return [self.function(*ind) for ind in population]\n",
    "\n",
    "    def _parallel_transfer(self, population):\n",
    "        new_population = np.array(population).copy()\n",
    "        condition = sum([any([el[i] < self.lower_bounds[i] or el[i] > self.upper_bounds[i]\n",
    "                              for el in new_population]) for i in range(len(self.lower_bounds))])\n",
    "        while condition:\n",
    "            alpha = random.random()\n",
    "            a = [np.random.uniform(self.lower_bounds[i], self.upper_bounds[i]) for i in range(len(self.upper_bounds))]\n",
    "            a1, a2 = a\n",
    "            new_population = [(el + a1 * math.cos(math.pi * alpha), el1 + a2 * math.sin(math.pi * alpha))\n",
    "                              for el, el1 in new_population]\n",
    "            condition = sum([any([el[i] < self.lower_bounds[i] or el[i] > self.upper_bounds[i]\n",
    "                                  for el in new_population]) for i in range(len(self.lower_bounds))])\n",
    "        return new_population\n",
    "\n",
    "    def _generate_random_population(self, qty_individuals, qty_variables):\n",
    "        population = [x for x in zip(*[np.random.random(qty_individuals) for i in range(qty_variables)])]\n",
    "        return population\n",
    "\n",
    "    def _generate_population_t(self, qty_individuals):\n",
    "        t_population = [x for x in zip(*[np.random.uniform(self.lower_bounds[i], self.upper_bounds[i], qty_individuals)\n",
    "                             for i in range(len(self.lower_bounds))])]\n",
    "        t_values = self._calculate_fitness(t_population)\n",
    "        return t_population, t_values\n",
    "\n",
    "    def _generate_population_z(self, population):\n",
    "        z_population = self._parallel_transfer(population)\n",
    "        z_values = self._calculate_fitness(z_population)\n",
    "\n",
    "        return z_population, z_values\n",
    "\n",
    "    def _simple_rotation(self, operand1, operand2, alpha):\n",
    "        new_operand = np.zeros(len(operand1))\n",
    "        new_operand[0] = operand1[0] + \\\n",
    "                         (operand1[0] - operand2[0]) * math.cos(math.pi * alpha) - \\\n",
    "                         (operand1[1] - operand2[1]) * math.sin(math.pi * alpha)\n",
    "        new_operand[1] = operand1[1] + \\\n",
    "                         (operand1[0] - operand2[0]) * math.sin(math.pi * alpha) - \\\n",
    "                         (operand1[1] - operand2[1]) * math.cos(math.pi * alpha)\n",
    "        return tuple(new_operand)\n",
    "\n",
    "    def _compress(self, operand1, operand2, compression_rate):\n",
    "        return tuple([(operand1[i] + operand2[i]) / compression_rate for i in range(len(operand1))])\n",
    "\n",
    "    def _rotate(self, population, is_compress=False, compression_rate=2):\n",
    "\n",
    "        alpha = random.random()\n",
    "        for i in range(len(population) - 1):\n",
    "            if self.function(*population[i]) < self.function(*population[i + 1]):\n",
    "                if is_compress:\n",
    "                    population[i] = self._compress(population[i], population[i + 1], compression_rate)\n",
    "                population[i + 1] = self._simple_rotation(population[i + 1], population[i], alpha)\n",
    "            else:\n",
    "                if is_compress:\n",
    "                    population[i+1] = self._compress(population[i], population[i + 1], compression_rate)\n",
    "                population[i] = self._simple_rotation(population[i], population[i + 1], alpha)\n",
    "        return self._parallel_transfer(population)\n",
    "\n",
    "    def _generate_population_s(self, population):\n",
    "\n",
    "        s_population = self._rotate(population)\n",
    "        s_values = self._calculate_fitness(s_population)\n",
    "\n",
    "        return s_population, s_values\n",
    "\n",
    "    def _generate_population_w(self, population, compression_rate=2):\n",
    "\n",
    "        w_population = self._rotate(population, True, compression_rate)\n",
    "        w_values = self._calculate_fitness(w_population)\n",
    "        return w_population, w_values\n",
    "\n",
    "    def evolution(self, qty_individuals, qty_variables=2, maxiterations=100, compression_rate=2):\n",
    "        random_population = self._generate_random_population(qty_individuals, qty_variables)\n",
    "        whole_population = [self._generate_population_t(qty_individuals)[0],\n",
    "                            self._generate_population_s(random_population)[0],\n",
    "                            self._generate_population_w(random_population, compression_rate)[0],\n",
    "                            self._generate_population_z(random_population)[0]]\n",
    "        \n",
    "        whole_population = list(map(lambda x: tuple(x), whole_population))\n",
    "        whole_population_values = np.array(list(itertools.chain(*[self._calculate_fitness(pop)\n",
    "                                                                  for pop in whole_population])))\n",
    "        whole_population_values.sort()\n",
    "        iteration = 1\n",
    "        selected_population = [el for el in list(itertools.chain(*whole_population))\n",
    "                               if self.function(*el) in whole_population_values[:qty_individuals]]\n",
    "        while iteration < maxiterations:\n",
    "            whole_population = [self._generate_population_t(qty_individuals)[0],\n",
    "                                self._generate_population_s(selected_population)[0],\n",
    "                                self._generate_population_w(selected_population, compression_rate)[0],\n",
    "                                self._generate_population_z(selected_population)[0]]\n",
    "            \n",
    "            whole_population = list(map(lambda x: tuple(x), whole_population))\n",
    "            whole_population_values = np.array(list(itertools.chain(*[self._calculate_fitness(pop)\n",
    "                                                                      for pop in whole_population])))\n",
    "            whole_population_values.sort()\n",
    "\n",
    "            selected_population = [el for el in list(itertools.chain(*whole_population))\n",
    "                                   if self.function(*el) in whole_population_values[:qty_individuals]]\n",
    "            iteration += 1\n",
    "\n",
    "        return selected_population[0], whole_population_values[0]"
   ]
  },
  {
   "cell_type": "markdown",
   "metadata": {},
   "source": [
    "## Testing on functions"
   ]
  },
  {
   "cell_type": "code",
   "execution_count": 4,
   "metadata": {
    "ExecuteTime": {
     "end_time": "2019-11-02T14:43:33.458149Z",
     "start_time": "2019-11-02T14:43:33.451520Z"
    }
   },
   "outputs": [],
   "source": [
    "alg_bukin = Deformed_Star(bukin_function, [-15, -3], [-5, 3])"
   ]
  },
  {
   "cell_type": "code",
   "execution_count": 5,
   "metadata": {
    "ExecuteTime": {
     "end_time": "2019-11-02T14:43:36.979976Z",
     "start_time": "2019-11-02T14:43:36.941266Z"
    }
   },
   "outputs": [
    {
     "data": {
      "text/plain": [
       "(array([-11.6586631 ,   1.43493517]), 27.528569137793102)"
      ]
     },
     "execution_count": 5,
     "metadata": {},
     "output_type": "execute_result"
    }
   ],
   "source": [
    "alg_bukin.evolution(3, maxiterations=7)"
   ]
  },
  {
   "cell_type": "code",
   "execution_count": 6,
   "metadata": {
    "ExecuteTime": {
     "end_time": "2019-11-02T14:03:03.162009Z",
     "start_time": "2019-11-02T14:03:03.157112Z"
    }
   },
   "outputs": [],
   "source": [
    "alg_but = Deformed_Star(but_function, [-10, -10], [10, 10])"
   ]
  },
  {
   "cell_type": "code",
   "execution_count": 14,
   "metadata": {
    "ExecuteTime": {
     "end_time": "2019-11-02T14:40:11.103911Z",
     "start_time": "2019-11-02T14:40:11.089674Z"
    }
   },
   "outputs": [
    {
     "data": {
      "text/plain": [
       "(array([0.52404186, 3.59929   ]), 0.6465276378237643)"
      ]
     },
     "execution_count": 14,
     "metadata": {},
     "output_type": "execute_result"
    }
   ],
   "source": [
    "alg_but.evolution(5, maxiterations=6)"
   ]
  },
  {
   "cell_type": "code",
   "execution_count": 8,
   "metadata": {
    "ExecuteTime": {
     "end_time": "2019-11-02T14:03:10.843224Z",
     "start_time": "2019-11-02T14:03:10.835252Z"
    }
   },
   "outputs": [],
   "source": [
    "alg_makkormik = Deformed_Star(makkormik_function, [-1.5, -3], [4, 4])"
   ]
  },
  {
   "cell_type": "code",
   "execution_count": 12,
   "metadata": {
    "ExecuteTime": {
     "end_time": "2019-11-02T14:08:24.927846Z",
     "start_time": "2019-11-02T14:08:24.915981Z"
    }
   },
   "outputs": [
    {
     "data": {
      "text/plain": [
       "(array([-0.46013433, -1.40535289]), -1.886634571049222)"
      ]
     },
     "execution_count": 12,
     "metadata": {},
     "output_type": "execute_result"
    }
   ],
   "source": [
    "alg_makkormik.evolution(4, maxiterations=5)"
   ]
  },
  {
   "cell_type": "code",
   "execution_count": null,
   "metadata": {},
   "outputs": [],
   "source": []
  }
 ],
 "metadata": {
  "kernelspec": {
   "display_name": "Python 3",
   "language": "python",
   "name": "python3"
  },
  "language_info": {
   "codemirror_mode": {
    "name": "ipython",
    "version": 3
   },
   "file_extension": ".py",
   "mimetype": "text/x-python",
   "name": "python",
   "nbconvert_exporter": "python",
   "pygments_lexer": "ipython3",
   "version": "3.6.6"
  },
  "toc": {
   "base_numbering": 1,
   "nav_menu": {},
   "number_sections": true,
   "sideBar": true,
   "skip_h1_title": false,
   "title_cell": "Table of Contents",
   "title_sidebar": "Contents",
   "toc_cell": false,
   "toc_position": {},
   "toc_section_display": true,
   "toc_window_display": false
  }
 },
 "nbformat": 4,
 "nbformat_minor": 2
}
